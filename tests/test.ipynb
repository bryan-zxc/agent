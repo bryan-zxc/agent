{
 "cells": [
  {
   "cell_type": "code",
   "execution_count": 7,
   "id": "e7d33e96",
   "metadata": {},
   "outputs": [],
   "source": [
    "from pydantic import BaseModel,Field\n",
    "from typing import Literal\n",
    "from IPython.display import display, Markdown\n",
    "from agent.services.llm_service import LLM\n",
    "from agent.utils.tools import encode_image"
   ]
  },
  {
   "cell_type": "code",
   "execution_count": 3,
   "id": "e4297d57",
   "metadata": {},
   "outputs": [],
   "source": [
    "llm = LLM()"
   ]
  },
  {
   "cell_type": "code",
   "execution_count": 5,
   "id": "08a41264",
   "metadata": {},
   "outputs": [
    {
     "name": "stdout",
     "output_type": "stream",
     "text": [
      "You're right, my apologies. That one's had its day.\n",
      "\n",
      "How about this:\n",
      "\n",
      "I'm reading a book on anti-gravity. It's impossible to put down\n"
     ]
    }
   ],
   "source": [
    "response = llm.get_response(messages=[{\"role\":\"developer\",\"content\":\"tell me a joke\"},\n",
    "\n",
    "{\"role\":\"assistant\",\"content\":\"why did the chicken cross the road?\"},\n",
    "\n",
    "{\"role\":\"user\",\"content\":\"this is a really old joke, tell me something else\"}], model=\"gemini-2.5-pro\").content\n",
    "print(response)"
   ]
  },
  {
   "cell_type": "code",
   "execution_count": null,
   "id": "29ba85dc",
   "metadata": {},
   "outputs": [],
   "source": []
  }
 ],
 "metadata": {
  "kernelspec": {
   "display_name": "agent",
   "language": "python",
   "name": "python3"
  },
  "language_info": {
   "codemirror_mode": {
    "name": "ipython",
    "version": 3
   },
   "file_extension": ".py",
   "mimetype": "text/x-python",
   "name": "python",
   "nbconvert_exporter": "python",
   "pygments_lexer": "ipython3",
   "version": "3.13.5"
  }
 },
 "nbformat": 4,
 "nbformat_minor": 5
}
